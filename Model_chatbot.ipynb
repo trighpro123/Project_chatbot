{
  "nbformat": 4,
  "nbformat_minor": 0,
  "metadata": {
    "colab": {
      "name": "Model_chatbot.ipynb",
      "provenance": [],
      "collapsed_sections": [],
      "authorship_tag": "ABX9TyNadFKvM1VHMNLxaB7FVeH6",
      "include_colab_link": true
    },
    "kernelspec": {
      "name": "python3",
      "display_name": "Python 3"
    },
    "language_info": {
      "name": "python"
    },
    "accelerator": "GPU"
  },
  "cells": [
    {
      "cell_type": "markdown",
      "metadata": {
        "id": "view-in-github",
        "colab_type": "text"
      },
      "source": [
        "<a href=\"https://colab.research.google.com/github/trighpro123/Project_chatbot/blob/main/Model_chatbot.ipynb\" target=\"_parent\"><img src=\"https://colab.research.google.com/assets/colab-badge.svg\" alt=\"Open In Colab\"/></a>"
      ]
    },
    {
      "cell_type": "code",
      "execution_count": null,
      "metadata": {
        "colab": {
          "base_uri": "https://localhost:8080/"
        },
        "id": "3AHlomSMW25V",
        "outputId": "42b2f6aa-587a-494b-cb6e-acb0e0f36805"
      },
      "outputs": [
        {
          "output_type": "stream",
          "name": "stdout",
          "text": [
            "Looking in indexes: https://pypi.org/simple, https://us-python.pkg.dev/colab-wheels/public/simple/\n",
            "Requirement already satisfied: gensim in /usr/local/lib/python3.7/dist-packages (3.6.0)\n",
            "Requirement already satisfied: six>=1.5.0 in /usr/local/lib/python3.7/dist-packages (from gensim) (1.15.0)\n",
            "Requirement already satisfied: numpy>=1.11.3 in /usr/local/lib/python3.7/dist-packages (from gensim) (1.21.6)\n",
            "Requirement already satisfied: scipy>=0.18.1 in /usr/local/lib/python3.7/dist-packages (from gensim) (1.4.1)\n",
            "Requirement already satisfied: smart-open>=1.2.1 in /usr/local/lib/python3.7/dist-packages (from gensim) (6.0.0)\n",
            "Looking in indexes: https://pypi.org/simple, https://us-python.pkg.dev/colab-wheels/public/simple/\n",
            "Collecting tensorflow_addons\n",
            "  Downloading tensorflow_addons-0.17.0-cp37-cp37m-manylinux_2_17_x86_64.manylinux2014_x86_64.whl (1.1 MB)\n",
            "\u001b[K     |████████████████████████████████| 1.1 MB 27.8 MB/s \n",
            "\u001b[?25hRequirement already satisfied: typeguard>=2.7 in /usr/local/lib/python3.7/dist-packages (from tensorflow_addons) (2.7.1)\n",
            "Requirement already satisfied: packaging in /usr/local/lib/python3.7/dist-packages (from tensorflow_addons) (21.3)\n",
            "Requirement already satisfied: pyparsing!=3.0.5,>=2.0.2 in /usr/local/lib/python3.7/dist-packages (from packaging->tensorflow_addons) (3.0.9)\n",
            "Installing collected packages: tensorflow-addons\n",
            "Successfully installed tensorflow-addons-0.17.0\n",
            "Looking in indexes: https://pypi.org/simple, https://us-python.pkg.dev/colab-wheels/public/simple/\n",
            "Collecting vncorenlp\n",
            "  Downloading vncorenlp-1.0.3.tar.gz (2.6 MB)\n",
            "\u001b[K     |████████████████████████████████| 2.6 MB 22.8 MB/s \n",
            "\u001b[?25hRequirement already satisfied: requests in /usr/local/lib/python3.7/dist-packages (from vncorenlp) (2.23.0)\n",
            "Requirement already satisfied: chardet<4,>=3.0.2 in /usr/local/lib/python3.7/dist-packages (from requests->vncorenlp) (3.0.4)\n",
            "Requirement already satisfied: urllib3!=1.25.0,!=1.25.1,<1.26,>=1.21.1 in /usr/local/lib/python3.7/dist-packages (from requests->vncorenlp) (1.24.3)\n",
            "Requirement already satisfied: certifi>=2017.4.17 in /usr/local/lib/python3.7/dist-packages (from requests->vncorenlp) (2022.5.18.1)\n",
            "Requirement already satisfied: idna<3,>=2.5 in /usr/local/lib/python3.7/dist-packages (from requests->vncorenlp) (2.10)\n",
            "Building wheels for collected packages: vncorenlp\n",
            "  Building wheel for vncorenlp (setup.py) ... \u001b[?25l\u001b[?25hdone\n",
            "  Created wheel for vncorenlp: filename=vncorenlp-1.0.3-py3-none-any.whl size=2645951 sha256=a6dc4099ae3f2fa7ece8c585b6173bd461f56876cc000cf8755a1f35b03bcaaf\n",
            "  Stored in directory: /root/.cache/pip/wheels/0c/d8/f2/d28d97379b4f6479bf51247c8dfd57fa00932fa7a74b6aab29\n",
            "Successfully built vncorenlp\n",
            "Installing collected packages: vncorenlp\n",
            "Successfully installed vncorenlp-1.0.3\n"
          ]
        }
      ],
      "source": [
        "!pip install gensim\n",
        "!pip install tensorflow_addons\n",
        "!pip install vncorenlp\n"
      ]
    },
    {
      "cell_type": "code",
      "source": [
        "from google.colab import drive\n",
        "drive.mount('/content/drive')"
      ],
      "metadata": {
        "colab": {
          "base_uri": "https://localhost:8080/"
        },
        "id": "RCe7NRnTW7Hm",
        "outputId": "14d1eaee-bb68-4b58-ed49-6ad1ee1d71d6"
      },
      "execution_count": null,
      "outputs": [
        {
          "output_type": "stream",
          "name": "stdout",
          "text": [
            "Mounted at /content/drive\n"
          ]
        }
      ]
    },
    {
      "cell_type": "code",
      "source": [
        "# -*- coding: utf-8 -*-\n",
        "from sklearn.metrics import *\n",
        "import os, pickle, re, keras, sklearn, string\n",
        "from tensorflow.keras.models import Sequential\n",
        "from tensorflow.keras.preprocessing import sequence\n",
        "import io\n",
        "import numpy as np\n",
        "from numpy import random\n",
        "import random as rn\n",
        "random.seed(42)\n",
        "import tensorflow as tf\n",
        "np.random.seed(42)\n",
        "rn.seed(42)\n",
        "import warnings\n",
        "warnings.filterwarnings(\"ignore\")"
      ],
      "metadata": {
        "id": "FEdB9fFcW_WO"
      },
      "execution_count": null,
      "outputs": []
    },
    {
      "cell_type": "code",
      "source": [
        "!git clone https://github.com/vncorenlp/VnCoreNLP\n",
        "from vncorenlp import VnCoreNLP\n",
        "import re\n",
        "# replace path_vncorenlp here\n",
        "path_vncorenlp = \"/content/VnCoreNLP/VnCoreNLP-1.1.1.jar\"\n",
        "rdrsegmenter = VnCoreNLP(path_vncorenlp, annotators=\"wseg\", max_heap_size='-Xmx500m') "
      ],
      "metadata": {
        "colab": {
          "base_uri": "https://localhost:8080/"
        },
        "id": "aU1QBqzCXbpl",
        "outputId": "003776e5-03c4-45fb-a8d4-0d36f154d540"
      },
      "execution_count": null,
      "outputs": [
        {
          "output_type": "stream",
          "name": "stdout",
          "text": [
            "fatal: destination path 'VnCoreNLP' already exists and is not an empty directory.\n"
          ]
        }
      ]
    },
    {
      "cell_type": "code",
      "source": [
        "import string\n",
        "import re\n",
        "\n",
        "def clean_doc(text, word_segment = True):\n",
        "  \n",
        "  text = text.lower()\n",
        "  #xóa dấu câu\n",
        "  for punc in string.punctuation:\n",
        "    text = text.replace(punc,' ')\n",
        "  #xóa khoảng trắng thừa\n",
        "  text = re.sub('\\s+',' ', text)\n",
        "  text = text.strip()\n",
        "  #tách từ\n",
        "  if word_segment == True:\n",
        "    text = rdrsegmenter.tokenize(text)\n",
        "    text = ' '.join([' '.join(x) for x in text])\n",
        "  else:\n",
        "    pass\n",
        "  return text\n",
        "text = '   xét tuyển như thế nào?!   '\n",
        "print(clean_doc(text))"
      ],
      "metadata": {
        "colab": {
          "base_uri": "https://localhost:8080/"
        },
        "id": "_G51XNYXXeO9",
        "outputId": "2d7297e6-cbdc-4002-a4a4-8ad0277badaf"
      },
      "execution_count": null,
      "outputs": [
        {
          "output_type": "stream",
          "name": "stdout",
          "text": [
            "xét tuyển như_thế_nào\n"
          ]
        }
      ]
    },
    {
      "cell_type": "code",
      "source": [
        "import pandas as pd\n",
        "#thay đường dẫn data\n",
        "path_data = '/content/drive/MyDrive/AI/Data_chatbot/data.xlsx'\n",
        "path_ans = '/content/drive/MyDrive/AI/Data_chatbot/Answer.xlsx'\n",
        "data = pd.read_excel(path_data)\n",
        "answers_df = pd.read_excel(path_ans)\n",
        "ans = answers_df['Answer'].tolist()\n",
        "\n",
        "data"
      ],
      "metadata": {
        "colab": {
          "base_uri": "https://localhost:8080/",
          "height": 424
        },
        "id": "ljX6ImemXlrw",
        "outputId": "9a41e811-ce09-49ea-8c6d-41bf3d0e3ef4"
      },
      "execution_count": null,
      "outputs": [
        {
          "output_type": "execute_result",
          "data": {
            "text/plain": [
              "                                              Question  \\\n",
              "0       Hồ sơ đăng ký nhập học tại trường gồm những gì   \n",
              "1                Hồ sơ nhập học trường UTE như thế nào   \n",
              "2                 Đi đăng ký nhập học cần đem những gì   \n",
              "3                   Nhập học cần đem hồ sơ như thế nào   \n",
              "4              Muốn nhập học cần những loại giấy tờ gì   \n",
              "..                                                 ...   \n",
              "307  Trong môi trường Nhà trường, các bạn nữ sẽ đượ...   \n",
              "308     Nhà trường có ưu ái gì cho sinh viên nữ không?   \n",
              "309  Nhà trường có chính sách đặc biệt nào đối với ...   \n",
              "310             Sinh viên nữ được ưu tiên gì ở trường?   \n",
              "311        Sinh viên nữ ở trường được hỗ trợ những gì?   \n",
              "\n",
              "                                                Answer  Class  \n",
              "0    Hồ sơ bao gồm: bằng tốt nghiệp hoặc giấy chứng...    1.0  \n",
              "1    Hồ sơ bao gồm: bằng tốt nghiệp hoặc giấy chứng...    1.0  \n",
              "2    Hồ sơ bao gồm: bằng tốt nghiệp hoặc giấy chứng...    1.0  \n",
              "3    Hồ sơ bao gồm: bằng tốt nghiệp hoặc giấy chứng...    1.0  \n",
              "4    Hồ sơ bao gồm: bằng tốt nghiệp hoặc giấy chứng...    1.0  \n",
              "..                                                 ...    ...  \n",
              "307  Nhà trường cấp học bổng bằng 50% học phí toàn ...   31.0  \n",
              "308  Nhà trường cấp học bổng bằng 50% học phí toàn ...   31.0  \n",
              "309  Nhà trường cấp học bổng bằng 50% học phí toàn ...   31.0  \n",
              "310  Nhà trường cấp học bổng bằng 50% học phí toàn ...   31.0  \n",
              "311  Nhà trường cấp học bổng bằng 50% học phí toàn ...   31.0  \n",
              "\n",
              "[312 rows x 3 columns]"
            ],
            "text/html": [
              "\n",
              "  <div id=\"df-cce73815-6f77-45c6-b88c-bca794607c4a\">\n",
              "    <div class=\"colab-df-container\">\n",
              "      <div>\n",
              "<style scoped>\n",
              "    .dataframe tbody tr th:only-of-type {\n",
              "        vertical-align: middle;\n",
              "    }\n",
              "\n",
              "    .dataframe tbody tr th {\n",
              "        vertical-align: top;\n",
              "    }\n",
              "\n",
              "    .dataframe thead th {\n",
              "        text-align: right;\n",
              "    }\n",
              "</style>\n",
              "<table border=\"1\" class=\"dataframe\">\n",
              "  <thead>\n",
              "    <tr style=\"text-align: right;\">\n",
              "      <th></th>\n",
              "      <th>Question</th>\n",
              "      <th>Answer</th>\n",
              "      <th>Class</th>\n",
              "    </tr>\n",
              "  </thead>\n",
              "  <tbody>\n",
              "    <tr>\n",
              "      <th>0</th>\n",
              "      <td>Hồ sơ đăng ký nhập học tại trường gồm những gì</td>\n",
              "      <td>Hồ sơ bao gồm: bằng tốt nghiệp hoặc giấy chứng...</td>\n",
              "      <td>1.0</td>\n",
              "    </tr>\n",
              "    <tr>\n",
              "      <th>1</th>\n",
              "      <td>Hồ sơ nhập học trường UTE như thế nào</td>\n",
              "      <td>Hồ sơ bao gồm: bằng tốt nghiệp hoặc giấy chứng...</td>\n",
              "      <td>1.0</td>\n",
              "    </tr>\n",
              "    <tr>\n",
              "      <th>2</th>\n",
              "      <td>Đi đăng ký nhập học cần đem những gì</td>\n",
              "      <td>Hồ sơ bao gồm: bằng tốt nghiệp hoặc giấy chứng...</td>\n",
              "      <td>1.0</td>\n",
              "    </tr>\n",
              "    <tr>\n",
              "      <th>3</th>\n",
              "      <td>Nhập học cần đem hồ sơ như thế nào</td>\n",
              "      <td>Hồ sơ bao gồm: bằng tốt nghiệp hoặc giấy chứng...</td>\n",
              "      <td>1.0</td>\n",
              "    </tr>\n",
              "    <tr>\n",
              "      <th>4</th>\n",
              "      <td>Muốn nhập học cần những loại giấy tờ gì</td>\n",
              "      <td>Hồ sơ bao gồm: bằng tốt nghiệp hoặc giấy chứng...</td>\n",
              "      <td>1.0</td>\n",
              "    </tr>\n",
              "    <tr>\n",
              "      <th>...</th>\n",
              "      <td>...</td>\n",
              "      <td>...</td>\n",
              "      <td>...</td>\n",
              "    </tr>\n",
              "    <tr>\n",
              "      <th>307</th>\n",
              "      <td>Trong môi trường Nhà trường, các bạn nữ sẽ đượ...</td>\n",
              "      <td>Nhà trường cấp học bổng bằng 50% học phí toàn ...</td>\n",
              "      <td>31.0</td>\n",
              "    </tr>\n",
              "    <tr>\n",
              "      <th>308</th>\n",
              "      <td>Nhà trường có ưu ái gì cho sinh viên nữ không?</td>\n",
              "      <td>Nhà trường cấp học bổng bằng 50% học phí toàn ...</td>\n",
              "      <td>31.0</td>\n",
              "    </tr>\n",
              "    <tr>\n",
              "      <th>309</th>\n",
              "      <td>Nhà trường có chính sách đặc biệt nào đối với ...</td>\n",
              "      <td>Nhà trường cấp học bổng bằng 50% học phí toàn ...</td>\n",
              "      <td>31.0</td>\n",
              "    </tr>\n",
              "    <tr>\n",
              "      <th>310</th>\n",
              "      <td>Sinh viên nữ được ưu tiên gì ở trường?</td>\n",
              "      <td>Nhà trường cấp học bổng bằng 50% học phí toàn ...</td>\n",
              "      <td>31.0</td>\n",
              "    </tr>\n",
              "    <tr>\n",
              "      <th>311</th>\n",
              "      <td>Sinh viên nữ ở trường được hỗ trợ những gì?</td>\n",
              "      <td>Nhà trường cấp học bổng bằng 50% học phí toàn ...</td>\n",
              "      <td>31.0</td>\n",
              "    </tr>\n",
              "  </tbody>\n",
              "</table>\n",
              "<p>312 rows × 3 columns</p>\n",
              "</div>\n",
              "      <button class=\"colab-df-convert\" onclick=\"convertToInteractive('df-cce73815-6f77-45c6-b88c-bca794607c4a')\"\n",
              "              title=\"Convert this dataframe to an interactive table.\"\n",
              "              style=\"display:none;\">\n",
              "        \n",
              "  <svg xmlns=\"http://www.w3.org/2000/svg\" height=\"24px\"viewBox=\"0 0 24 24\"\n",
              "       width=\"24px\">\n",
              "    <path d=\"M0 0h24v24H0V0z\" fill=\"none\"/>\n",
              "    <path d=\"M18.56 5.44l.94 2.06.94-2.06 2.06-.94-2.06-.94-.94-2.06-.94 2.06-2.06.94zm-11 1L8.5 8.5l.94-2.06 2.06-.94-2.06-.94L8.5 2.5l-.94 2.06-2.06.94zm10 10l.94 2.06.94-2.06 2.06-.94-2.06-.94-.94-2.06-.94 2.06-2.06.94z\"/><path d=\"M17.41 7.96l-1.37-1.37c-.4-.4-.92-.59-1.43-.59-.52 0-1.04.2-1.43.59L10.3 9.45l-7.72 7.72c-.78.78-.78 2.05 0 2.83L4 21.41c.39.39.9.59 1.41.59.51 0 1.02-.2 1.41-.59l7.78-7.78 2.81-2.81c.8-.78.8-2.07 0-2.86zM5.41 20L4 18.59l7.72-7.72 1.47 1.35L5.41 20z\"/>\n",
              "  </svg>\n",
              "      </button>\n",
              "      \n",
              "  <style>\n",
              "    .colab-df-container {\n",
              "      display:flex;\n",
              "      flex-wrap:wrap;\n",
              "      gap: 12px;\n",
              "    }\n",
              "\n",
              "    .colab-df-convert {\n",
              "      background-color: #E8F0FE;\n",
              "      border: none;\n",
              "      border-radius: 50%;\n",
              "      cursor: pointer;\n",
              "      display: none;\n",
              "      fill: #1967D2;\n",
              "      height: 32px;\n",
              "      padding: 0 0 0 0;\n",
              "      width: 32px;\n",
              "    }\n",
              "\n",
              "    .colab-df-convert:hover {\n",
              "      background-color: #E2EBFA;\n",
              "      box-shadow: 0px 1px 2px rgba(60, 64, 67, 0.3), 0px 1px 3px 1px rgba(60, 64, 67, 0.15);\n",
              "      fill: #174EA6;\n",
              "    }\n",
              "\n",
              "    [theme=dark] .colab-df-convert {\n",
              "      background-color: #3B4455;\n",
              "      fill: #D2E3FC;\n",
              "    }\n",
              "\n",
              "    [theme=dark] .colab-df-convert:hover {\n",
              "      background-color: #434B5C;\n",
              "      box-shadow: 0px 1px 3px 1px rgba(0, 0, 0, 0.15);\n",
              "      filter: drop-shadow(0px 1px 2px rgba(0, 0, 0, 0.3));\n",
              "      fill: #FFFFFF;\n",
              "    }\n",
              "  </style>\n",
              "\n",
              "      <script>\n",
              "        const buttonEl =\n",
              "          document.querySelector('#df-cce73815-6f77-45c6-b88c-bca794607c4a button.colab-df-convert');\n",
              "        buttonEl.style.display =\n",
              "          google.colab.kernel.accessAllowed ? 'block' : 'none';\n",
              "\n",
              "        async function convertToInteractive(key) {\n",
              "          const element = document.querySelector('#df-cce73815-6f77-45c6-b88c-bca794607c4a');\n",
              "          const dataTable =\n",
              "            await google.colab.kernel.invokeFunction('convertToInteractive',\n",
              "                                                     [key], {});\n",
              "          if (!dataTable) return;\n",
              "\n",
              "          const docLinkHtml = 'Like what you see? Visit the ' +\n",
              "            '<a target=\"_blank\" href=https://colab.research.google.com/notebooks/data_table.ipynb>data table notebook</a>'\n",
              "            + ' to learn more about interactive tables.';\n",
              "          element.innerHTML = '';\n",
              "          dataTable['output_type'] = 'display_data';\n",
              "          await google.colab.output.renderOutput(dataTable, element);\n",
              "          const docLink = document.createElement('div');\n",
              "          docLink.innerHTML = docLinkHtml;\n",
              "          element.appendChild(docLink);\n",
              "        }\n",
              "      </script>\n",
              "    </div>\n",
              "  </div>\n",
              "  "
            ]
          },
          "metadata": {},
          "execution_count": 13
        }
      ]
    },
    {
      "cell_type": "code",
      "source": [
        "### Chuyển số dạng string sang dạng int\n",
        "def standar_label(label):\n",
        "  return int(label)\n",
        "category_list = data['Class'].apply(standar_label).unique().tolist() ### Tìm các phần tử duy nhất trong mảng\n",
        "print(category_list)\n",
        "### Vecto hóa số thứ tự các câu hỏi\n",
        "def to_category_vector(category, target_categories = category_list):\n",
        "    vector = np.zeros(len(target_categories)).astype(np.float32)\n",
        "    for i in range(len(target_categories)):\n",
        "        if target_categories[i] == category:\n",
        "            vector[i] = 1.0\n",
        "            break\n",
        "    return vector\n",
        "print(to_category_vector(3))"
      ],
      "metadata": {
        "colab": {
          "base_uri": "https://localhost:8080/"
        },
        "id": "VIoxMigTYVpK",
        "outputId": "f45dfcd1-3340-4937-81d8-3fd5cea39ea0"
      },
      "execution_count": null,
      "outputs": [
        {
          "output_type": "stream",
          "name": "stdout",
          "text": [
            "[1, 2, 3, 4, 5, 6, 7, 8, 9, 10, 11, 12, 13, 14, 15, 16, 17, 18, 19, 20, 21, 22, 23, 24, 25, 26, 27, 28, 29, 30, 31]\n",
            "[0. 0. 1. 0. 0. 0. 0. 0. 0. 0. 0. 0. 0. 0. 0. 0. 0. 0. 0. 0. 0. 0. 0. 0.\n",
            " 0. 0. 0. 0. 0. 0. 0.]\n"
          ]
        }
      ]
    },
    {
      "cell_type": "code",
      "source": [
        "## Gán và xử lý dữ liệu\n",
        "questions = data['Question'].astype(str)\n",
        "questions = questions.apply(clean_doc).tolist()\n",
        "Y_train = data['Class'].apply(to_category_vector).tolist()"
      ],
      "metadata": {
        "id": "FCyKY6jzYqC_"
      },
      "execution_count": null,
      "outputs": []
    },
    {
      "cell_type": "code",
      "source": [
        "from tensorflow.keras.preprocessing.text import Tokenizer\n",
        "\n",
        "t = Tokenizer(oov_token='<UNK>')\n",
        "# cập nhập từ vựng nội bộ dựa trên questions trước khi biến đổi sequences\n",
        "t.fit_on_texts(questions)\n",
        "t.word_index['<PAD>'] = 0\n",
        "# Với mỗi từ sẽ gán với 1 số tương ứng"
      ],
      "metadata": {
        "id": "Eie53DhnYuZ9"
      },
      "execution_count": null,
      "outputs": []
    },
    {
      "cell_type": "code",
      "source": [
        "input_vocab_size = len(t.word_index)\n",
        "print(input_vocab_size)\n",
        "MAX_LEN = 40\n",
        "EMBEDDING_DIM = 300"
      ],
      "metadata": {
        "colab": {
          "base_uri": "https://localhost:8080/"
        },
        "id": "xFzaOz4Dhz7F",
        "outputId": "78456bb1-d026-4a9b-9876-32fd57f02652"
      },
      "execution_count": null,
      "outputs": [
        {
          "output_type": "stream",
          "name": "stdout",
          "text": [
            "328\n"
          ]
        }
      ]
    },
    {
      "cell_type": "code",
      "source": [
        "### Chuyển chuỗi văn bản questions sang chuỗi số\n",
        "train_sequences = t.texts_to_sequences(questions)\n",
        "# Chèn các số từ câu biến thành vào vecto có độ dài 40, các số rỗng sẽ thành 0 \n",
        "X_train = sequence.pad_sequences(train_sequences, maxlen=MAX_LEN)\n",
        "X_train"
      ],
      "metadata": {
        "colab": {
          "base_uri": "https://localhost:8080/"
        },
        "id": "lwbALC7MinXr",
        "outputId": "3f7ea111-feb0-4e90-ee30-8981cb83f9a7"
      },
      "execution_count": null,
      "outputs": [
        {
          "output_type": "execute_result",
          "data": {
            "text/plain": [
              "array([[  0,   0,   0, ..., 163,  36,  14],\n",
              "       [  0,   0,   0, ...,  13,  12,   5],\n",
              "       [  0,   0,   0, ..., 139,  36,  14],\n",
              "       ...,\n",
              "       [  0,   0,   0, ...,  41,  89,   6],\n",
              "       [  0,   0,   0, ...,  14,  54,   2],\n",
              "       [  0,   0,   0, ..., 189,  36,  14]], dtype=int32)"
            ]
          },
          "metadata": {},
          "execution_count": 18
        }
      ]
    },
    {
      "cell_type": "code",
      "source": [
        "import tensorflow_addons as tfa\n",
        "filter_nums = 64\n",
        "\n",
        "inputs  = tf.keras.layers.Input(shape=(MAX_LEN, ), dtype='float64')    #Tạo cấu trúc input cho CNN   \n",
        "# Scale lại dữ liệu thành các vecto/ số fit vs model\n",
        "# 1 size của từ vựng input; 2 size dense output\n",
        "embedding_layer_domain = tf.keras.layers.Embedding(input_vocab_size, EMBEDDING_DIM, input_length=MAX_LEN)(inputs) \n",
        "embedding_layer_domain = tf.keras.layers.SpatialDropout1D(0.5)(embedding_layer_domain) # hàm của dropout\n",
        "\n",
        "# Xây dựng model\n",
        "conv_1 = tf.keras.layers.Conv1D(filter_nums, 2, padding=\"same\", activation=\"relu\",\n",
        "                                kernel_initializer='he_normal',trainable=True)(embedding_layer_domain)        \n",
        "conv_2 = tf.keras.layers.Conv1D(filter_nums, 3, padding=\"same\", activation=\"relu\",\n",
        "                                kernel_initializer='he_normal',trainable=True)(embedding_layer_domain)\n",
        "conv_1 = tf.keras.layers.Dropout(0.2)(conv_1)\n",
        "conv_2 = tf.keras.layers.Dropout(0.2)(conv_2)\n",
        "maxpool_1 = tf.keras.layers.GlobalMaxPooling1D()(conv_1)\n",
        "maxpool_2 = tf.keras.layers.GlobalMaxPooling1D()(conv_2)\n",
        "\n",
        "v0_col = tf.keras.layers.Concatenate(axis=1)([maxpool_1, maxpool_2])\n",
        "dense_1 = tf.keras.layers.Dense(300,name=\"dense1\", activation='relu')(v0_col)\n",
        "drop = tf.keras.layers.Dropout(0.2)(dense_1)\n",
        "output = tf.keras.layers.Dense(len(category_list),name=\"output1\", activation='softmax')(drop)\n",
        "\n",
        "# Training CNN\n",
        "model = tf.keras.Model(inputs=inputs, outputs=output)\n",
        "loss = tf.keras.losses.CategoricalCrossentropy()\n",
        "model.compile(loss=loss, optimizer= tf.keras.optimizers.Adam(0.001) , metrics = \"accuracy\")\n",
        "history = model.fit(X_train, np.array(Y_train), batch_size=64, epochs=50)\n",
        "#model.load_weights(checkpoint_filepath)"
      ],
      "metadata": {
        "colab": {
          "base_uri": "https://localhost:8080/"
        },
        "id": "GeEiWEHDizIa",
        "outputId": "7862e690-ff2a-4c00-f113-983e5bc857a1"
      },
      "execution_count": null,
      "outputs": [
        {
          "output_type": "stream",
          "name": "stdout",
          "text": [
            "Epoch 1/50\n",
            "5/5 [==============================] - 13s 68ms/step - loss: 3.4414 - accuracy: 0.0256\n",
            "Epoch 2/50\n",
            "5/5 [==============================] - 0s 6ms/step - loss: 3.3931 - accuracy: 0.0929\n",
            "Epoch 3/50\n",
            "5/5 [==============================] - 0s 8ms/step - loss: 3.3569 - accuracy: 0.1891\n",
            "Epoch 4/50\n",
            "5/5 [==============================] - 0s 6ms/step - loss: 3.3013 - accuracy: 0.3077\n",
            "Epoch 5/50\n",
            "5/5 [==============================] - 0s 6ms/step - loss: 3.2241 - accuracy: 0.4327\n",
            "Epoch 6/50\n",
            "5/5 [==============================] - 0s 6ms/step - loss: 3.1222 - accuracy: 0.5224\n",
            "Epoch 7/50\n",
            "5/5 [==============================] - 0s 5ms/step - loss: 2.9674 - accuracy: 0.6346\n",
            "Epoch 8/50\n",
            "5/5 [==============================] - 0s 6ms/step - loss: 2.7623 - accuracy: 0.7532\n",
            "Epoch 9/50\n",
            "5/5 [==============================] - 0s 6ms/step - loss: 2.5114 - accuracy: 0.7853\n",
            "Epoch 10/50\n",
            "5/5 [==============================] - 0s 6ms/step - loss: 2.1802 - accuracy: 0.8622\n",
            "Epoch 11/50\n",
            "5/5 [==============================] - 0s 5ms/step - loss: 1.8206 - accuracy: 0.8750\n",
            "Epoch 12/50\n",
            "5/5 [==============================] - 0s 7ms/step - loss: 1.3937 - accuracy: 0.9038\n",
            "Epoch 13/50\n",
            "5/5 [==============================] - 0s 5ms/step - loss: 1.0658 - accuracy: 0.8910\n",
            "Epoch 14/50\n",
            "5/5 [==============================] - 0s 5ms/step - loss: 0.7659 - accuracy: 0.9038\n",
            "Epoch 15/50\n",
            "5/5 [==============================] - 0s 6ms/step - loss: 0.5539 - accuracy: 0.9263\n",
            "Epoch 16/50\n",
            "5/5 [==============================] - 0s 6ms/step - loss: 0.4163 - accuracy: 0.9263\n",
            "Epoch 17/50\n",
            "5/5 [==============================] - 0s 5ms/step - loss: 0.3001 - accuracy: 0.9615\n",
            "Epoch 18/50\n",
            "5/5 [==============================] - 0s 6ms/step - loss: 0.2554 - accuracy: 0.9423\n",
            "Epoch 19/50\n",
            "5/5 [==============================] - 0s 5ms/step - loss: 0.1900 - accuracy: 0.9712\n",
            "Epoch 20/50\n",
            "5/5 [==============================] - 0s 5ms/step - loss: 0.1735 - accuracy: 0.9744\n",
            "Epoch 21/50\n",
            "5/5 [==============================] - 0s 6ms/step - loss: 0.1449 - accuracy: 0.9776\n",
            "Epoch 22/50\n",
            "5/5 [==============================] - 0s 7ms/step - loss: 0.1208 - accuracy: 0.9776\n",
            "Epoch 23/50\n",
            "5/5 [==============================] - 0s 5ms/step - loss: 0.1040 - accuracy: 0.9776\n",
            "Epoch 24/50\n",
            "5/5 [==============================] - 0s 8ms/step - loss: 0.0934 - accuracy: 0.9872\n",
            "Epoch 25/50\n",
            "5/5 [==============================] - 0s 6ms/step - loss: 0.0689 - accuracy: 0.9936\n",
            "Epoch 26/50\n",
            "5/5 [==============================] - 0s 5ms/step - loss: 0.0726 - accuracy: 0.9872\n",
            "Epoch 27/50\n",
            "5/5 [==============================] - 0s 6ms/step - loss: 0.0579 - accuracy: 0.9936\n",
            "Epoch 28/50\n",
            "5/5 [==============================] - 0s 6ms/step - loss: 0.0580 - accuracy: 0.9936\n",
            "Epoch 29/50\n",
            "5/5 [==============================] - 0s 6ms/step - loss: 0.0419 - accuracy: 0.9936\n",
            "Epoch 30/50\n",
            "5/5 [==============================] - 0s 6ms/step - loss: 0.0453 - accuracy: 0.9904\n",
            "Epoch 31/50\n",
            "5/5 [==============================] - 0s 8ms/step - loss: 0.0349 - accuracy: 0.9968\n",
            "Epoch 32/50\n",
            "5/5 [==============================] - 0s 6ms/step - loss: 0.0375 - accuracy: 0.9936\n",
            "Epoch 33/50\n",
            "5/5 [==============================] - 0s 6ms/step - loss: 0.0294 - accuracy: 0.9968\n",
            "Epoch 34/50\n",
            "5/5 [==============================] - 0s 6ms/step - loss: 0.0354 - accuracy: 0.9904\n",
            "Epoch 35/50\n",
            "5/5 [==============================] - 0s 6ms/step - loss: 0.0253 - accuracy: 1.0000\n",
            "Epoch 36/50\n",
            "5/5 [==============================] - 0s 5ms/step - loss: 0.0290 - accuracy: 0.9904\n",
            "Epoch 37/50\n",
            "5/5 [==============================] - 0s 6ms/step - loss: 0.0223 - accuracy: 1.0000\n",
            "Epoch 38/50\n",
            "5/5 [==============================] - 0s 6ms/step - loss: 0.0259 - accuracy: 0.9968\n",
            "Epoch 39/50\n",
            "5/5 [==============================] - 0s 6ms/step - loss: 0.0202 - accuracy: 0.9968\n",
            "Epoch 40/50\n",
            "5/5 [==============================] - 0s 7ms/step - loss: 0.0222 - accuracy: 0.9968\n",
            "Epoch 41/50\n",
            "5/5 [==============================] - 0s 5ms/step - loss: 0.0169 - accuracy: 0.9968\n",
            "Epoch 42/50\n",
            "5/5 [==============================] - 0s 5ms/step - loss: 0.0188 - accuracy: 0.9936\n",
            "Epoch 43/50\n",
            "5/5 [==============================] - 0s 6ms/step - loss: 0.0246 - accuracy: 0.9968\n",
            "Epoch 44/50\n",
            "5/5 [==============================] - 0s 5ms/step - loss: 0.0184 - accuracy: 0.9968\n",
            "Epoch 45/50\n",
            "5/5 [==============================] - 0s 6ms/step - loss: 0.0177 - accuracy: 0.9968\n",
            "Epoch 46/50\n",
            "5/5 [==============================] - 0s 6ms/step - loss: 0.0164 - accuracy: 0.9968\n",
            "Epoch 47/50\n",
            "5/5 [==============================] - 0s 6ms/step - loss: 0.0173 - accuracy: 0.9936\n",
            "Epoch 48/50\n",
            "5/5 [==============================] - 0s 5ms/step - loss: 0.0173 - accuracy: 0.9936\n",
            "Epoch 49/50\n",
            "5/5 [==============================] - 0s 6ms/step - loss: 0.0136 - accuracy: 0.9936\n",
            "Epoch 50/50\n",
            "5/5 [==============================] - 0s 6ms/step - loss: 0.0112 - accuracy: 1.0000\n"
          ]
        }
      ]
    },
    {
      "cell_type": "code",
      "source": [
        "def predict_class(text1):\n",
        "  test_encoded1 = t.texts_to_sequences([clean_doc(text1)])\n",
        "  test_pad1 = sequence.pad_sequences(test_encoded1, maxlen=MAX_LEN)\n",
        "  question1_class = np.argmax(model.predict(test_pad1))\n",
        "  return question1_class"
      ],
      "metadata": {
        "id": "6jqsT5GNi10N"
      },
      "execution_count": null,
      "outputs": []
    },
    {
      "cell_type": "code",
      "source": [
        "## Test sơ bộ\n",
        "ans[predict_class('Chương trình sư phạm và chương trình công nghệ khác nhau như thế nào?')]"
      ],
      "metadata": {
        "colab": {
          "base_uri": "https://localhost:8080/",
          "height": 109
        },
        "id": "qHkD10w9i49C",
        "outputId": "d3fc1b11-6432-4bb1-da7c-07088123e13c"
      },
      "execution_count": null,
      "outputs": [
        {
          "output_type": "execute_result",
          "data": {
            "text/plain": [
              "'Khác nhau:\\n_ Chương trình Sư phạm học 4,5 năm; có học khối kiến thức sư phạm (tương đương khoảng 01 học kỳ); trong quá trình học, SV được miễn học phí; khi tốt nghiệp, SV được cấp 02 văn bằng: Bằng kỹ sư (hoặc cử nhân) theo ngành học & chứng chỉ sư phạm kỹ thuật; SV phải chấp hành sự phân công công tác trong ngành giáo dục theo quy định, nếu Nhà nước có yêu cầu.\\n_ Chương trình công nghệ học 4 năm; không học khối kiến thức sư phạm; trong quá trình học SV phải đóng học phí; khi tốt nghiệp, SV được cấp 01 văn bằng: Bằng kỹ sư (hoặc cử nhân) theo ngành học.\\nGiống nhau: \\n_ Đều là hệ đại học chính quy; khối kiến thức đại cương, cơ sở ngành, chuyên ngành học giống nhau.'"
            ],
            "application/vnd.google.colaboratory.intrinsic+json": {
              "type": "string"
            }
          },
          "metadata": {},
          "execution_count": 26
        }
      ]
    },
    {
      "cell_type": "code",
      "source": [
        "model.save('model_chatbot.h5')"
      ],
      "metadata": {
        "id": "hEbJSdLZi8eu"
      },
      "execution_count": null,
      "outputs": []
    }
  ]
}