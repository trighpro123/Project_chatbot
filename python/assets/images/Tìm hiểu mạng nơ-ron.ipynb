{
 "cells": [
  {
   "cell_type": "code",
   "execution_count": null,
   "id": "b3d13643",
   "metadata": {},
   "outputs": [],
   "source": [
    "import numpy as np\n",
    "from tqdm import tqdm\n",
    "import time\n",
    "\n",
    "np.random.seed(1)"
   ]
  },
  {
   "cell_type": "code",
   "execution_count": null,
   "id": "f4739af9",
   "metadata": {},
   "outputs": [],
   "source": [
    "def sigmoid(x): return 1 / (1 + np.exp(-x))\n",
    "\n",
    "def sigmoid_derivative(x): return sigmoid(x) * (1 - sigmoid(x))"
   ]
  },
  {
   "cell_type": "code",
   "execution_count": null,
   "id": "a0e429ae",
   "metadata": {},
   "outputs": [],
   "source": [
    "N   = 4            # số mẫu huấn luyện\n",
    "x_1 = [0, 0, 1, 1] # đầu vào thứ nhất\n",
    "x_2 = [0, 1, 0, 1] # đầu vào thứ hai\n",
    "y   = [0, 1, 1, 0] # đầu ra"
   ]
  },
  {
   "cell_type": "code",
   "execution_count": null,
   "id": "61cca97e",
   "metadata": {},
   "outputs": [],
   "source": [
    "'''\n",
    "np.random.normal(0, 1): lấy một giá trị ngẫu nhiên từ phân phối chuẩn\n",
    "có giá trị trung bình là 0 và độ lệch chuẩn là 1\n",
    "'''\n",
    "\n",
    "w, dw = {}, {}\n",
    "\n",
    "for j in range(1, 2 + 1): # chỉ số nơ-ron j của lớp thứ nhất\n",
    "    for k in range(0, 2 + 1): # chỉ k = 0 để chỉ bias\n",
    "        w[f'{j}{k}_1'] = np.random.normal(0, 1) # w_jk_r trong đó r = 1\n",
    "        dw[f'{j}{k}_1'] = 0 #\n",
    "    \n",
    "for k in range(0, 2 + 1): # chỉ k = 0 để chỉ bias\n",
    "    w[f'1{k}_2'] = np.random.normal(0, 1) # w_jk_r trong đó r = 2\n",
    "    dw[f'1{k}_2'] = 0 #\n",
    "    \n",
    "# trong thực tế, các thư viện sử dụng một số kỹ thuật khác để khởi tạo trọng số"
   ]
  },
  {
   "cell_type": "code",
   "execution_count": null,
   "id": "9f7577d9",
   "metadata": {},
   "outputs": [],
   "source": [
    "mu = 1 # tốc độ học\n",
    "nb_epochs = 200 # số lần lặp"
   ]
  },
  {
   "cell_type": "code",
   "execution_count": null,
   "id": "1b160df1",
   "metadata": {},
   "outputs": [],
   "source": [
    "# huấn luyện\n",
    "# trong thực tế, các thư viện sử dụng kỹ thuật phân rã tốc độ học, khiến nó giảm dần theo thời gian\n",
    "pbar = tqdm(range(nb_epochs))\n",
    "for epoch in pbar:\n",
    "    J, nb_correct = 0, 0\n",
    "    \n",
    "    for i in range(N):\n",
    "        # tính toán forward cho lớp ẩn thứ nhất\n",
    "        v_1_1 = w['10_1'] + x_1[i] * w['11_1'] + x_2[i] * w['12_1']\n",
    "        v_2_1 = w['20_1'] + x_1[i] * w['21_1'] + x_2[i] * w['22_1']\n",
    "        y_1_1 = sigmoid(v_1_1)\n",
    "        y_2_1 = sigmoid(v_2_1)\n",
    "        \n",
    "        # tính toán forward cho lớp đầu ra\n",
    "        v_1_2 = w['10_2'] + y_1_1 * w['11_2'] + y_2_1 * w['12_2']\n",
    "        y_1_2 = sigmoid(v_1_2)\n",
    "                      \n",
    "        # Cách 1: tính toán backward cho lớp đầu ra dựa trên hàm lỗi bình phương\n",
    "        # delta_1_2 = (y_1_2 - y[i]) * sigmoid_derivative(v_1_2)\n",
    "        # J += 0.5 * (y_1_2 - y[i]) ** 2\n",
    "        \n",
    "        # Cách 2: tính toán backward cho lớp đầu ra dựa trên hàm lỗi binary cross-entropy\n",
    "        delta_1_2 = y_1_2 - 1 if y[i] else y_1_2\n",
    "        J += -np.log(y_1_2) if y[i] else -np.log(1 - y_1_2)\n",
    "        \n",
    "        nb_correct += ((y_1_2 > 0.5) == y[i])\n",
    "                \n",
    "        # tính toán backward cho lớp ẩn thứ nhất\n",
    "        delta_1_1 = (delta_1_2 * w['11_2']) * sigmoid_derivative(v_1_1)\n",
    "        delta_2_1 = (delta_1_2 * w['12_2']) * sigmoid_derivative(v_2_1)\n",
    "        \n",
    "        # tính toán các cập nhật trọng số\n",
    "        dw['10_2'] += delta_1_2 * 1\n",
    "        dw['11_2'] += delta_1_2 * y_1_1\n",
    "        dw['12_2'] += delta_1_2 * y_2_1\n",
    "        \n",
    "        dw['10_1'] += delta_1_1 * 1\n",
    "        dw['11_1'] += delta_1_1 * x_1[i]\n",
    "        dw['12_1'] += delta_1_1 * x_2[i]\n",
    "        \n",
    "        dw['20_1'] += delta_2_1 * 1\n",
    "        dw['21_1'] += delta_2_1 * x_1[i]\n",
    "        dw['22_1'] += delta_2_1 * x_2[i]\n",
    "        \n",
    "    pbar.set_postfix({'cost_value': J, 'accuracy': str(100*nb_correct//N) + '%'})\n",
    "    time.sleep(0.05)\n",
    "    if nb_correct == N: break\n",
    "                    \n",
    "    # cập nhật trọng số của lớp thứ nhất\n",
    "    for j in range(1, 2 + 1):\n",
    "        for k in range(0, 2 + 1): # chỉ k = 0 để chỉ bias\n",
    "            w[f'{j}{k}_1'] += -mu * dw[f'{j}{k}_1'] # tốc độ học * ước lượng trọng số thay đổi\n",
    "            dw[f'{j}{k}_1'] = 0 # reset gradient, zero grad\n",
    "    \n",
    "    # cập nhật trọng số của lớp thứ hai\n",
    "    for k in range(0, 2 + 1): # chỉ k = 0 để chỉ bias\n",
    "        w[f'1{k}_2'] += -mu * dw[f'1{k}_2'] # tốc độ học * ước lượng trọng số thay đổi\n",
    "        dw[f'1{k}_2'] = 0# reset gradient, zero grad"
   ]
  },
  {
   "cell_type": "code",
   "execution_count": null,
   "id": "01864ae8",
   "metadata": {},
   "outputs": [],
   "source": [
    "# dự đoán\n",
    "for i in range(N):\n",
    "    # tính toán forward cho lớp ẩn thứ nhất\n",
    "    v_1_1 = w['10_1'] + x_1[i] * w['11_1'] + x_2[i] * w['12_1']\n",
    "    v_2_1 = w['20_1'] + x_1[i] * w['21_1'] + x_2[i] * w['22_1']\n",
    "    y_1_1 = sigmoid(v_1_1)\n",
    "    y_2_1 = sigmoid(v_2_1)\n",
    "\n",
    "    # tính toán forward cho lớp đầu ra\n",
    "    v_1_2 = w['10_2'] + y_1_1 * w['11_2'] + y_2_1 * w['12_2']    \n",
    "    y_1_2 = sigmoid(v_1_2)\n",
    "    \n",
    "    print(x_1[i], x_2[i], y_1_2 > 0.5)"
   ]
  },
  {
   "cell_type": "code",
   "execution_count": null,
   "metadata": {},
   "outputs": [],
   "source": []
  }
 ],
 "metadata": {
  "kernelspec": {
   "display_name": "Python 3 (ipykernel)",
   "language": "python",
   "name": "python3"
  },
  "language_info": {
   "codemirror_mode": {
    "name": "ipython",
    "version": 3
   },
   "file_extension": ".py",
   "mimetype": "text/x-python",
   "name": "python",
   "nbconvert_exporter": "python",
   "pygments_lexer": "ipython3",
   "version": "3.8.11"
  }
 },
 "nbformat": 4,
 "nbformat_minor": 5
}
